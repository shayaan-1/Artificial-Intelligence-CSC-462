{
 "cells": [
  {
   "cell_type": "markdown",
   "id": "3fe4160f-18eb-4ac0-8cba-bc30808c25a9",
   "metadata": {},
   "source": [
    "**Lab Task 1**"
   ]
  },
  {
   "cell_type": "code",
   "execution_count": 1,
   "id": "66689f9a-c0f5-4378-a32e-2f9e02c37d03",
   "metadata": {},
   "outputs": [
    {
     "name": "stdin",
     "output_type": "stream",
     "text": [
      "Enter elements for list 1 (separated by spaces):  1 2 3\n",
      "Enter elements for list 2 (separated by spaces):  4 5 6\n"
     ]
    },
    {
     "name": "stdout",
     "output_type": "stream",
     "text": [
      "Merged and sorted list: [1, 2, 3, 4, 5, 6]\n"
     ]
    }
   ],
   "source": [
    "\n",
    "list1 = list(map(int, input(\"Enter elements for list 1 (separated by spaces): \").split()))\n",
    "list2 = list(map(int, input(\"Enter elements for list 2 (separated by spaces): \").split()))\n",
    "\n",
    "merged_list = list1 + list2\n",
    "merged_list.sort()\n",
    "\n",
    "print(\"Merged and sorted list:\", merged_list)\n"
   ]
  },
  {
   "cell_type": "markdown",
   "id": "9e442292-8557-445e-8bfb-dade8e9568c7",
   "metadata": {},
   "source": [
    "**Lab Task 2**"
   ]
  },
  {
   "cell_type": "code",
   "execution_count": 2,
   "id": "b9b438bf-416c-4109-87ea-ea3fd96b5594",
   "metadata": {},
   "outputs": [
    {
     "name": "stdin",
     "output_type": "stream",
     "text": [
      "Enter elements for list 1 (separated by spaces):  1 2 3\n",
      "Enter elements for list 2 (separated by spaces):  4 5 6\n"
     ]
    },
    {
     "name": "stdout",
     "output_type": "stream",
     "text": [
      "Merged and sorted list: [1, 2, 3, 4, 5, 6]\n",
      "Smallest element: 1\n",
      "Largest element: 6\n"
     ]
    }
   ],
   "source": [
    "list1 = list(map(int, input(\"Enter elements for list 1 (separated by spaces): \").split()))\n",
    "list2 = list(map(int, input(\"Enter elements for list 2 (separated by spaces): \").split()))\n",
    "\n",
    "merged_list = list1 + list2\n",
    "merged_list.sort()\n",
    "\n",
    "print(\"Merged and sorted list:\", merged_list)\n",
    "print(\"Smallest element:\", min(merged_list))\n",
    "print(\"Largest element:\", max(merged_list))"
   ]
  },
  {
   "cell_type": "markdown",
   "id": "0fc09e35-b598-46ce-8c7c-f1c146e1ff5f",
   "metadata": {},
   "source": [
    "**Lab Task 3**"
   ]
  },
  {
   "cell_type": "code",
   "execution_count": 3,
   "id": "15d7ec01-498d-443c-8270-f215a7a804f2",
   "metadata": {},
   "outputs": [
    {
     "name": "stdout",
     "output_type": "stream",
     "text": [
      "Derivative Approximation for sin(x)\n",
      "----------------------------------------\n",
      "At x = -1.5707963267948966:\n",
      "  Approximated derivative: 0.0004999999583255033\n",
      "  Actual derivative (cos(x)): 6.123233995736766e-17\n",
      "  Difference: 0.000499999958325442\n",
      "\n",
      "At x = 0:\n",
      "  Approximated derivative: 0.9999998333333416\n",
      "  Actual derivative (cos(x)): 1.0\n",
      "  Difference: 1.666666583632903e-07\n",
      "\n",
      "At x = 1.5707963267948966:\n",
      "  Approximated derivative: -0.0004999999583255033\n",
      "  Actual derivative (cos(x)): 6.123233995736766e-17\n",
      "  Difference: 0.0004999999583255645\n",
      "\n"
     ]
    }
   ],
   "source": [
    "import math\n",
    "\n",
    "def approximate_derivative(x, h=0.001):\n",
    "    \"\"\"\n",
    "    Approximate the derivative of sin(x) at a given point.\n",
    "    \n",
    "    Args:\n",
    "    x (float): The point at which to calculate the derivative\n",
    "    h (float): The small increment (default 0.001)\n",
    "    \n",
    "    Returns:\n",
    "    float: Approximated derivative value\n",
    "    \"\"\"\n",
    "    return (math.sin(x + h) - math.sin(x)) / h\n",
    "\n",
    "# Test the approximation at key points\n",
    "test_points = [-math.pi/2, 0, math.pi/2]\n",
    "\n",
    "print(\"Derivative Approximation for sin(x)\")\n",
    "print(\"-\" * 40)\n",
    "\n",
    "for x in test_points:\n",
    "    approx_derivative = approximate_derivative(x)\n",
    "    actual_derivative = math.cos(x)\n",
    "    \n",
    "    print(f\"At x = {x}:\")\n",
    "    print(f\"  Approximated derivative: {approx_derivative}\")\n",
    "    print(f\"  Actual derivative (cos(x)): {actual_derivative}\")\n",
    "    print(f\"  Difference: {abs(approx_derivative - actual_derivative)}\\n\")"
   ]
  },
  {
   "cell_type": "markdown",
   "id": "4cf868b6-3bfc-4d1b-9cdb-c02c45de043d",
   "metadata": {},
   "source": [
    "**Lab Task 4**"
   ]
  },
  {
   "cell_type": "code",
   "execution_count": 5,
   "id": "80fab8e7-eeab-4c40-a64c-9a9d87715e4a",
   "metadata": {},
   "outputs": [
    {
     "name": "stdout",
     "output_type": "stream",
     "text": [
      "Welcome to the birthday dictionary. We know the birthdays of:\n",
      "Albert Einstein\n",
      "Benjamin Franklin\n",
      "Ada Lovelace\n"
     ]
    },
    {
     "name": "stdin",
     "output_type": "stream",
     "text": [
      "Who's birthday do you want to look up?  Albert Einstein\n"
     ]
    },
    {
     "name": "stdout",
     "output_type": "stream",
     "text": [
      "Albert Einstein's birthday is 03/14/1879.\n"
     ]
    }
   ],
   "source": [
    "birthday_dict = {\n",
    "    \"Albert Einstein\": \"03/14/1879\",\n",
    "    \"Benjamin Franklin\": \"01/17/1706\",\n",
    "    \"Ada Lovelace\": \"12/10/1815\"\n",
    "}\n",
    "\n",
    "print(\"Welcome to the birthday dictionary. We know the birthdays of:\")\n",
    "for name in birthday_dict:\n",
    "    print(name)\n",
    "\n",
    "name = input(\"Who's birthday do you want to look up? \")\n",
    "if name in birthday_dict:\n",
    "    print(f\"{name}'s birthday is {birthday_dict[name]}.\")\n",
    "else:\n",
    "    print(\"Sorry, we don't know that person's birthday.\")\n"
   ]
  },
  {
   "cell_type": "markdown",
   "id": "0ebbb8f5-b7c6-4730-8245-0edaa957b28f",
   "metadata": {},
   "source": [
    "**Lab Task 5**"
   ]
  },
  {
   "cell_type": "code",
   "execution_count": 6,
   "id": "1af0de7e-e53e-4735-aa91-ac534a7ca266",
   "metadata": {},
   "outputs": [
    {
     "name": "stdout",
     "output_type": "stream",
     "text": [
      "{'name': 'Kelly', 'salary': 8000}\n"
     ]
    }
   ],
   "source": [
    "sample_dict = {\n",
    "    \"name\": \"Kelly\",\n",
    "    \"age\": 25,\n",
    "    \"salary\": 8000,\n",
    "    \"city\": \"New York\"\n",
    "}\n",
    "\n",
    "keys = [\"name\", \"salary\"]\n",
    "new_dict = {key: sample_dict[key] for key in keys}\n",
    "\n",
    "print(new_dict)\n"
   ]
  },
  {
   "cell_type": "code",
   "execution_count": null,
   "id": "27cdabd6-a109-4c2c-9f57-4bd939ecabc0",
   "metadata": {},
   "outputs": [],
   "source": []
  },
  {
   "cell_type": "code",
   "execution_count": null,
   "id": "83e7910e-c95b-485d-9202-4a8894261ca8",
   "metadata": {},
   "outputs": [],
   "source": []
  }
 ],
 "metadata": {
  "kernelspec": {
   "display_name": "Python 3 (ipykernel)",
   "language": "python",
   "name": "python3"
  },
  "language_info": {
   "codemirror_mode": {
    "name": "ipython",
    "version": 3
   },
   "file_extension": ".py",
   "mimetype": "text/x-python",
   "name": "python",
   "nbconvert_exporter": "python",
   "pygments_lexer": "ipython3",
   "version": "3.12.8"
  }
 },
 "nbformat": 4,
 "nbformat_minor": 5
}
