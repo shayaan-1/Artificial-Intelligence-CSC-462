{
 "cells": [
  {
   "cell_type": "markdown",
   "id": "27ca69da-3ac4-4af0-8f6c-301540600e4a",
   "metadata": {},
   "source": [
    "**Lab Task 1**"
   ]
  },
  {
   "cell_type": "markdown",
   "id": "1fd523e0-7cf9-4f3d-9a19-0f45c59c6ad5",
   "metadata": {},
   "source": [
    "###### s = input(\"Enter a number : \")\n",
    "num = int(s)\n",
    "while num > 0:\n",
    "    print(num%10, end=\"\")\n",
    "    num = int(num / 10)"
   ]
  },
  {
   "cell_type": "markdown",
   "id": "979861c7-51bb-4853-bbec-8bc2fb54c649",
   "metadata": {},
   "source": [
    "**Lab Task 2**"
   ]
  },
  {
   "cell_type": "code",
   "execution_count": 2,
   "id": "60ef098a-b45b-4083-bc20-8543e5781ddb",
   "metadata": {},
   "outputs": [
    {
     "name": "stdout",
     "output_type": "stream",
     "text": [
      "Sum of even numbers :  30\n",
      "Sum of odd numbers :  25\n"
     ]
    }
   ],
   "source": [
    "arr = [1,2,3,4,5,6,7,8,9,10]\n",
    "even = 0\n",
    "odd = 0\n",
    "for i in arr:\n",
    "    if i%2 == 0:\n",
    "        even += i\n",
    "    else:\n",
    "        odd += i\n",
    "print(\"Sum of even numbers : \",even)\n",
    "print(\"Sum of odd numbers : \",odd)"
   ]
  },
  {
   "cell_type": "markdown",
   "id": "64616d0b-210a-4b0a-87b1-7173d6ce3ac4",
   "metadata": {},
   "source": [
    "**Lab Task 3**"
   ]
  },
  {
   "cell_type": "code",
   "execution_count": 3,
   "id": "fda18b6b-4259-4319-9982-f818c27e7637",
   "metadata": {},
   "outputs": [
    {
     "name": "stdin",
     "output_type": "stream",
     "text": [
      "Enter the value till which fibonacci series should go upto:  6\n"
     ]
    },
    {
     "name": "stdout",
     "output_type": "stream",
     "text": [
      "0\n",
      "1 1 2 3 5 "
     ]
    }
   ],
   "source": [
    "string_num = input(\"Enter the value till which fibonacci series should go upto: \")\n",
    "fib_num = int(string_num)\n",
    "\n",
    "left = 0\n",
    "right = 1\n",
    "next_term = 0\n",
    "i = 1\n",
    "\n",
    "print(left)\n",
    "while i < fib_num:\n",
    "    print(right, end=\" \")\n",
    "    next_term = left + right\n",
    "    left = right\n",
    "    right = next_term\n",
    "    i = i + 1\n"
   ]
  },
  {
   "cell_type": "markdown",
   "id": "0891fb81-3dd7-4ff3-b9b9-cc800b830052",
   "metadata": {},
   "source": [
    "**Lab Task 4**"
   ]
  },
  {
   "cell_type": "code",
   "execution_count": 4,
   "id": "0f0f1a5f-1756-4fd5-8829-5ae85054cac0",
   "metadata": {},
   "outputs": [
    {
     "name": "stdin",
     "output_type": "stream",
     "text": [
      "Enter grades of student between 0 and 100 :  43\n"
     ]
    },
    {
     "name": "stdout",
     "output_type": "stream",
     "text": [
      "Grade: F\n"
     ]
    }
   ],
   "source": [
    "grades = int(input(\"Enter grades of student between 0 and 100 : \"))\n",
    "\n",
    "if grades > 100:\n",
    "    print(\"Incorrect grades\")\n",
    "elif grades > 90:\n",
    "    print(\"Grade: A\")\n",
    "elif grades > 80:\n",
    "    print(\"Grade: B\")\n",
    "elif grades > 70:\n",
    "    print(\"Grade: C\")\n",
    "elif grades > 60:\n",
    "    print(\"Grade: D\")\n",
    "elif grades > 50:\n",
    "    print(\"Grade: E\")\n",
    "else:\n",
    "    print(\"Grade: F\")\n"
   ]
  },
  {
   "cell_type": "markdown",
   "id": "f63f359f-b6f9-4176-9e99-b51053198b27",
   "metadata": {},
   "source": [
    "**Lab Task 5**"
   ]
  },
  {
   "cell_type": "code",
   "execution_count": 1,
   "id": "5b5f7a33-b299-4796-905f-b27bba1ac5b0",
   "metadata": {},
   "outputs": [
    {
     "name": "stdin",
     "output_type": "stream",
     "text": [
      "Enter the number you want factorial of:  5\n"
     ]
    },
    {
     "name": "stdout",
     "output_type": "stream",
     "text": [
      "Facotiral :  120\n"
     ]
    }
   ],
   "source": [
    "fact_num = int(input(\"Enter the number you want factorial of: \"))\n",
    "i = 1\n",
    "fact = 1\n",
    "\n",
    "while i <= fact_num:\n",
    "    fact = fact * i\n",
    "    i = i + 1\n",
    "\n",
    "print(\"Facotiral : \",fact)"
   ]
  }
 ],
 "metadata": {
  "kernelspec": {
   "display_name": "Python 3 (ipykernel)",
   "language": "python",
   "name": "python3"
  },
  "language_info": {
   "codemirror_mode": {
    "name": "ipython",
    "version": 3
   },
   "file_extension": ".py",
   "mimetype": "text/x-python",
   "name": "python",
   "nbconvert_exporter": "python",
   "pygments_lexer": "ipython3",
   "version": "3.12.8"
  }
 },
 "nbformat": 4,
 "nbformat_minor": 5
}
